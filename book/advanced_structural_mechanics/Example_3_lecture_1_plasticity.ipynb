{
 "cells": [
  {
   "cell_type": "markdown",
   "metadata": {},
   "source": [
    "# Example solving systems of equations with SymPy in Python for example 3 of plasticity lecture 1."
   ]
  },
  {
   "cell_type": "code",
   "execution_count": null,
   "metadata": {},
   "outputs": [],
   "source": [
    "import sympy as sym\n",
    "sym.init_printing()"
   ]
  },
  {
   "cell_type": "code",
   "execution_count": 8,
   "metadata": {},
   "outputs": [
    {
     "data": {
      "image/png": "[encoded data removed]",
      "text/latex": [
       "$\\displaystyle \\left\\{ w_{A} : \\frac{11 F}{56 EA}, \\  w_{C} : \\frac{F}{7 EA}\\right\\}$"
      ],
      "text/plain": [
       "⎧      11⋅F        F  ⎫\n",
       "⎨w_A: ─────, w_C: ────⎬\n",
       "⎩     56⋅EA       7⋅EA⎭"
      ]
     },
     "metadata": {},
     "output_type": "display_data"
    }
   ],
   "source": [
    "w_A, w_C, F = sym.symbols('w_A w_C F')\n",
    "EA = sym.symbols('EA', positive=True) \n",
    "\n",
    "w_B = w_A - (w_A - w_C) / 3 * 2\n",
    "eq1 = sym.Eq(EA * 4 * 2 * w_B + EA * 2 * w_C*6 - F * 3,0)\n",
    "eq2 = sym.Eq(EA * 2 * w_A + EA * 2 * w_B + EA * 2 * w_C - F, 0)\n",
    "sol = sym.solve([eq1, eq2], (w_A, w_C))\n",
    "display(sol)"
   ]
  },
  {
   "cell_type": "code",
   "execution_count": 9,
   "metadata": {},
   "outputs": [
    {
     "data": {
      "image/png": "[encoded data removed]",
      "text/latex": [
       "$\\displaystyle \\frac{9 F}{56 EA}$"
      ],
      "text/plain": [
       " 9⋅F \n",
       "─────\n",
       "56⋅EA"
      ]
     },
     "execution_count": 9,
     "metadata": {},
     "output_type": "execute_result"
    }
   ],
   "source": [
    "w_B.subs(sol)"
   ]
  }
 ],
 "metadata": {
  "kernelspec": {
   "display_name": "base",
   "language": "python",
   "name": "python3"
  },
  "language_info": {
   "codemirror_mode": {
    "name": "ipython",
    "version": 3
   },
   "file_extension": ".py",
   "mimetype": "text/x-python",
   "name": "python",
   "nbconvert_exporter": "python",
   "pygments_lexer": "ipython3",
   "version": "3.9.18"
  }
 },
 "nbformat": 4,
 "nbformat_minor": 2
}
