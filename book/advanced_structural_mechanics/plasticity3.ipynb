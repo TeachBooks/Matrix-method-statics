{
 "cells": [
  {
   "cell_type": "markdown",
   "metadata": {},
   "source": [
    "# Plasticity extension elements statically indeterminate"
   ]
  },
  {
   "cell_type": "markdown",
   "metadata": {},
   "source": [
    "Click {fa}`rocket` --> {guilabel}`Live Code` on the top right corner of this screen to investigate some plasticity!\n"
   ]
  },
  {
   "cell_type": "code",
   "execution_count": null,
   "metadata": {
    "tags": [
     "thebe-remove-input-init"
    ]
   },
   "outputs": [],
   "source": [
    "#import micropip\n",
    "#await micropip.install(\"ipympl\")"
   ]
  },
  {
   "cell_type": "code",
   "execution_count": null,
   "metadata": {
    "tags": [
     "thebe-remove-input-init",
     "auto-execute-page"
    ]
   },
   "outputs": [],
   "source": [
    "import matplotlib.pyplot as plt\n",
    "from matplotlib.patches import Polygon\n",
    "import numpy as np\n",
    "import sympy as sym\n",
    "\n",
    "import ipywidgets as widgets\n",
    "#from IPython.display import display\n",
    "\n",
    "#%matplotlib widget"
   ]
  },
  {
   "cell_type": "code",
   "execution_count": null,
   "metadata": {
    "tags": [
     "thebe-remove-input-init"
    ]
   },
   "outputs": [],
   "source": [
    "wM = sym.symbols('wM',real=True,positive=True)\n",
    "deltawAM = sym.symbols('deltawAM',real=True)\n",
    "E = sym.nsimplify(200e9)\n",
    "A1 = sym.nsimplify(10e-6)\n",
    "fy = sym.nsimplify(500e6)\n",
    "bm = sym.S(2)\n",
    "L = sym.S(6)\n",
    "kA = E * A1 / 6\n",
    "kB = E * A1 / 10\n",
    "kC = E * A1 / 8 #(op x = 3)\n",
    "wAz = wM-deltawAM/3*(6-bm)\n",
    "wBz = wM+deltawAM/3*bm\n",
    "wBx = sym.cos(deltawAM/(L/(bm/6)))*6\n",
    "wCz = wM-deltawAM/3*(3-bm)\n",
    "wCx = sym.cos(deltawAM/(L/(bm/6)))*3\n",
    "\n",
    "FA = kA *  wAz\n",
    "FC = kC *  wCz\n",
    "FB = kB *  wBz\n",
    "F = sym.symbols('F',real=True,positive=True)\n",
    "eq1 = sym.Eq(FA + FB + FC- F,0)\n",
    "eq2 = sym.Eq(F * 4 - FC * 3 - FB * 6,0)\n",
    "F_sol = sym.solve(eq1,F)[0]\n",
    "deltawAM_sol_1 = sym.solve(eq2.subs(F,F_sol),deltawAM)[0]\n",
    "wyA = sym.solve(sym.Eq(FA.subs(deltawAM,deltawAM_sol_1),fy*A1),wM)[0]\n",
    "wyB = sym.solve(sym.Eq(FB.subs(deltawAM,deltawAM_sol_1),fy*A1),wM)[0]\n",
    "wyC = sym.solve(sym.Eq(FC.subs(deltawAM,deltawAM_sol_1),fy*A1),wM)[0]\n",
    "FB = fy*A1\n",
    "eq1 = sym.Eq(FA + FB + FC- F,0)\n",
    "eq2 = sym.Eq(F * 4 - FC * 3 - FB * 6,0)\n",
    "F_sol = sym.solve(eq1,F)[0]\n",
    "deltawAM_sol_2 = sym.solve(eq2.subs(F,F_sol),deltawAM)[0]\n",
    "wyA = sym.solve(sym.Eq(FA.subs(deltawAM,deltawAM_sol_2),-fy*A1),wM)[0]\n",
    "wyC = sym.solve(sym.Eq(FC.subs(deltawAM,deltawAM_sol_2),fy*A1),wM)[0]\n",
    "FC = fy*A1\n",
    "eq1 = sym.Eq(FA + FB + FC- F,0)\n",
    "eq2 = sym.Eq(F * 4 - FC * 3 - FB * 6,0)\n",
    "F_sol = sym.solve(eq1,F)[0]\n",
    "deltawAM_sol_3 = sym.solve(eq2.subs(F,F_sol),deltawAM)[0]\n",
    "deltawAM_sol = sym.Piecewise((deltawAM_sol_1, wM < wyB), (deltawAM_sol_2, wM < wyC), (deltawAM_sol_3, True))\n",
    "\n",
    "FB = sym.Piecewise((kB *  wBz,wM < wyB), (fy*A1, True))\n",
    "FC = sym.Piecewise((kC *  wCz,wM < wyC), (fy*A1, True))\n",
    "eq1 = sym.Eq(FA + FB + FC- F,0)\n",
    "F_sol = sym.solve(eq1,F)[0]\n",
    "\n",
    "eps = sym.symbols('eps',real=True,positive=True)\n",
    "sigmaA = FA.subs(deltawAM,deltawAM_sol)/A1\n",
    "epsA = wAz.subs(deltawAM,deltawAM_sol)/6\n",
    "sigmaB = FB.subs(deltawAM,deltawAM_sol)/A1\n",
    "epsB = wBz.subs(deltawAM,deltawAM_sol)/10\n",
    "sigmaC = FC.subs(deltawAM,deltawAM_sol)/A1\n",
    "epsC = wCz.subs(deltawAM,deltawAM_sol)/8\n",
    "\n",
    "wAz_nump = sym.lambdify(wM,wAz.subs(deltawAM,deltawAM_sol))\n",
    "wBz_nump = sym.lambdify(wM,wBz.subs(deltawAM,deltawAM_sol))\n",
    "wBx_nump = sym.lambdify(wM,wBx.subs(deltawAM,deltawAM_sol))\n",
    "wCz_nump = sym.lambdify(wM,wCz.subs(deltawAM,deltawAM_sol))\n",
    "wCx_nump = sym.lambdify(wM,wCx.subs(deltawAM,deltawAM_sol))\n",
    "sigmaA_nump = sym.lambdify(wM,sigmaA)\n",
    "sigmaB_nump = sym.lambdify(wM,sigmaB)\n",
    "sigmaC_nump = sym.lambdify(wM,sigmaC)\n",
    "epsA_nump = sym.lambdify(wM,epsA)\n",
    "epsB_nump = sym.lambdify(wM,epsB)\n",
    "epsC_nump = sym.lambdify(wM,epsC)\n",
    "F_nump = sym.lambdify(wM,F_sol.subs(deltawAM,deltawAM_sol))"
   ]
  },
  {
   "cell_type": "code",
   "execution_count": null,
   "metadata": {
    "tags": [
     "thebe-remove-input-init",
     "full-width"
    ]
   },
   "outputs": [],
   "source": [
    "fig = plt.figure(figsize=(10,5))\n",
    "ax1 = fig.add_subplot(1,3,1)\n",
    "ax1.set_aspect('equal')\n",
    "ax2 = fig.add_subplot(2,3,2)\n",
    "ax3 = fig.add_subplot(2,3,3)\n",
    "ax4 = fig.add_subplot(2,3,5)\n",
    "ax5 = fig.add_subplot(2,3,6)\n",
    "ax2.spines['right'].set_color('none')\n",
    "ax2.spines['top'].set_color('none')\n",
    "ax3.spines['right'].set_color('none')\n",
    "ax3.spines['top'].set_color('none')\n",
    "ax4.spines['right'].set_color('none')\n",
    "ax4.spines['top'].set_color('none')\n",
    "ax5.spines['right'].set_color('none')\n",
    "ax5.spines['top'].set_color('none')\n",
    "fig.tight_layout()\n",
    "scale = 30\n",
    "w_slider = widgets.FloatSlider(value=0, min=0, max=0.2, step=0.0001, description='w:')\n",
    "wM_list = np.array([0,wyB,wyC,0.2])\n",
    "\n",
    "def update_plot(w):\n",
    "    wM_num = w\n",
    "    ax1.clear()  # Clear the existing plot\n",
    "    ax2.clear()\n",
    "    ax3.clear()\n",
    "    ax4.clear()\n",
    "    ax5.clear()\n",
    "    ax1.set_xlim([-1,7])\n",
    "    ax1.set_ylim([-7,11])\n",
    "    ax1.plot([0,0],[-wAz_nump(wM_num)*scale,6])\n",
    "    # Get the color of the previous plot\n",
    "    color1 = ax1.get_lines()[-1].get_color()\n",
    "    if wM_num < wyB:\n",
    "        ax1.plot([wBx_nump(wM_num),wBx_nump(wM_num)],[-wBz_nump(wM_num)*scale,10])\n",
    "    else:\n",
    "        ax1.plot([wBx_nump(wM_num),wBx_nump(wM_num)],[-wBz_nump(wM_num)*scale,10],linewidth=3)\n",
    "    color2 = ax1.get_lines()[-1].get_color()\n",
    "    ax1.plot([0,wBx_nump(wM_num)],[-wAz_nump(wM_num)*scale,-wBz_nump(wM_num)*scale],color='black')\n",
    "    if wM_num < wyC:\n",
    "        ax1.plot([wCx_nump(wM_num),wCx_nump(wM_num)],[-wCz_nump(wM_num)*scale,8])\n",
    "    else:\n",
    "        ax1.plot([wCx_nump(wM_num),wCx_nump(wM_num)],[-wCz_nump(wM_num)*scale,8],linewidth=3)\n",
    "    color3 = ax1.get_lines()[-1].get_color()\n",
    "\n",
    "    ax1.annotate('', xy=(wBx_nump(wM_num)*((6-bm)/6), -w*scale), xytext=(wBx_nump(wM_num)*((6-bm)/6), 0) , arrowprops=dict(arrowstyle='fancy'))\n",
    "    ax1.text(3,9.5,'Vertical deformation\\nscaled by 30',fontsize=12,ha='center',va='center')\n",
    "    ax1.axis('off')\n",
    "\n",
    "    y1 = np.array([[0-1/3,6+1/2], [0+0,6+0], [0+1/3,6+1/2]])\n",
    "    p1 = Polygon(y1, facecolor = '#00CC99',edgecolor='black')\n",
    "    ax1.add_patch(p1)\n",
    "    ax1.plot([0-1/2,0+1/2],[6+1/2,6+1/2],color='black')\n",
    "\n",
    "    y2 = np.array([[wBx_nump(wM_num)-1/3,10+1/2], [wBx_nump(wM_num)+0,10+0], [wBx_nump(wM_num)+1/3,10+1/2]])\n",
    "    p2 = Polygon(y2, facecolor = '#00CC99',edgecolor='black')\n",
    "    ax1.add_patch(p2)\n",
    "    ax1.plot([wBx_nump(wM_num)-1/2,wBx_nump(wM_num)+1/2],[10+1/2,10+1/2],color='black')\n",
    "    ax1.plot([wBx_nump(wM_num)-1/2,wBx_nump(wM_num)+1/2],[10+1/2+1/4,10+1/2+1/4],color='black')\n",
    "\n",
    "    y3 = np.array([[wCx_nump(wM_num)-1/3,8+1/2], [wCx_nump(wM_num)+0,8+0], [wCx_nump(wM_num)+1/3,8+1/2]])\n",
    "    p3 = Polygon(y3, facecolor = '#00CC99',edgecolor='black')\n",
    "    ax1.add_patch(p3)\n",
    "    ax1.plot([wCx_nump(wM_num)-1/2,wCx_nump(wM_num)+1/2],[8+1/2,8+1/2],color='black')\n",
    "    ax1.plot([wCx_nump(wM_num)-1/2,wCx_nump(wM_num)+1/2],[8+1/2+1/4,8+1/2+1/4],color='black')\n",
    "\n",
    "    ax3.plot(epsB_nump(wM_list),sigmaB_nump(wM_list)/1e6,color=color2)\n",
    "    ax3.plot(epsB_nump(wM_num),sigmaB_nump(wM_num)/1e6,'o',color=color2)\n",
    "    ax3.set_ylabel('$\\sigma$ [MPa]')\n",
    "    ax3.set_xlabel('$\\epsilon$ [MPa]')\n",
    "    ax3.set_xlim([-0.001,max(epsB_nump(0.1)+0.001,epsB_nump(wM_num)+0.001)])\n",
    "\n",
    "\n",
    "    ax2.plot(epsC_nump(wM_list),sigmaC_nump(wM_list)/1e6,color=color3)\n",
    "    ax2.plot(epsC_nump(wM_num),sigmaC_nump(wM_num)/1e6,'o',color=color3)\n",
    "    ax2.set_ylabel('$\\sigma$ [MPa]')\n",
    "    ax2.set_xlabel('$\\epsilon$ [MPa]')\n",
    "    ax2.set_xlim([-0.001,max(epsC_nump(0.1)+0.001,epsC_nump(wM_num)+0.001)])\n",
    "\n",
    "\n",
    "    ax4.plot(epsA_nump(wM_list),sigmaA_nump(wM_list)/1e6,color=color1)\n",
    "    ax4.plot(epsA_nump(wM_num),sigmaA_nump(wM_num)/1e6,'o',color=color1)\n",
    "    ax4.set_ylabel('$\\sigma$ [MPa]')\n",
    "    ax4.set_xlabel('$\\epsilon$ [MPa]')\n",
    "\n",
    "    ax5.plot(wM_list,F_nump(wM_list),color='black')\n",
    "    ax5.plot(wM_num,F_nump(wM_num),'o',color='black')\n",
    "    ax5.set_ylabel('$F$ [N]')\n",
    "    ax5.set_xlabel('$w$ [m]')\n",
    "    ax5.set_xlim([0-0.002,max(0.1+0.002,wM_num+0.002)])\n",
    "\n",
    "    ax2.set_yticklabels([])\n",
    "    ax2.set_xticklabels([])\n",
    "    ax3.set_yticklabels([])\n",
    "    ax3.set_xticklabels([])\n",
    "    ax4.set_yticklabels([])\n",
    "    ax4.set_xticklabels([])\n",
    "    ax5.set_yticklabels([])\n",
    "    ax5.set_xticklabels([])\n",
    "    \n",
    "    plt.draw()  \n",
    "\n",
    "interact(update_plot, w = w_slider);\n"
   ]
  }
 ],
 "metadata": {
  "kernelspec": {
   "display_name": "base",
   "language": "python",
   "name": "python3"
  },
  "language_info": {
   "codemirror_mode": {
    "name": "ipython",
    "version": 3
   },
   "file_extension": ".py",
   "mimetype": "text/x-python",
   "name": "python",
   "nbconvert_exporter": "python",
   "pygments_lexer": "ipython3",
   "version": "3.9.18"
  }
 },
 "nbformat": 4,
 "nbformat_minor": 2
}
