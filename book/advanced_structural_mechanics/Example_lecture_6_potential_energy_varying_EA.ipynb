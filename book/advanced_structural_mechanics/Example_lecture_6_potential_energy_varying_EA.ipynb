{
 "cells": [
  {
   "cell_type": "markdown",
   "id": "e8971041",
   "metadata": {
    "slideshow": {
     "slide_type": "slide"
    }
   },
   "source": [
    "## Principle of minimum total potential energy with trial function ##"
   ]
  },
  {
   "cell_type": "markdown",
   "id": "7d43e5be",
   "metadata": {},
   "source": [
    "![figuur 1](./data_Example_lecture_6_potential_energy_varying_EA/example_lecture_6_potential_energy_varying_EA.gif)\n",
    "\n",
    "\n",
    "## Solving use trial function\n",
    "\n",
    "With trial function:"
   ]
  },
  {
   "cell_type": "code",
   "execution_count": 1,
   "id": "e52b2469",
   "metadata": {
    "slideshow": {
     "slide_type": "fragment"
    }
   },
   "outputs": [
    {
     "data": {
      "text/latex": [
       "$\\displaystyle a \\left(1 - \\frac{x}{L}\\right)$"
      ],
      "text/plain": [
       "a*(1 - x/L)"
      ]
     },
     "metadata": {},
     "output_type": "display_data"
    }
   ],
   "source": [
    "import sympy as sym\n",
    "EA_0, a, x, L, F = sym.symbols('EA_0, a, x, L, F')\n",
    "EA = 2 * EA_0 / (2 - x / L)\n",
    "u_trial = a * (1 - x / L)\n",
    "display(u_trial)"
   ]
  },
  {
   "cell_type": "markdown",
   "id": "bfe639b5",
   "metadata": {},
   "source": [
    "And strain energy:"
   ]
  },
  {
   "cell_type": "code",
   "execution_count": 2,
   "id": "7b3e5e99",
   "metadata": {
    "slideshow": {
     "slide_type": "subslide"
    }
   },
   "outputs": [
    {
     "data": {
      "text/latex": [
       "$\\displaystyle \\frac{EA_{0} a^{2} \\log{\\left(2 \\right)}}{L}$"
      ],
      "text/plain": [
       "EA_0*a**2*log(2)/L"
      ]
     },
     "metadata": {},
     "output_type": "display_data"
    }
   ],
   "source": [
    "eps_trial = u_trial.diff(x)\n",
    "Ev = sym.simplify(sym.integrate( EA * eps_trial**2 / 2,(x,0,L)))\n",
    "display(Ev)"
   ]
  },
  {
   "cell_type": "markdown",
   "id": "553bd47b",
   "metadata": {},
   "source": [
    "And total potential energy:"
   ]
  },
  {
   "cell_type": "code",
   "execution_count": 3,
   "id": "f4aed61d",
   "metadata": {
    "slideshow": {
     "slide_type": "subslide"
    }
   },
   "outputs": [
    {
     "data": {
      "text/latex": [
       "$\\displaystyle \\frac{EA_{0} a^{2} \\log{\\left(2 \\right)}}{L} - F a$"
      ],
      "text/plain": [
       "EA_0*a**2*log(2)/L - F*a"
      ]
     },
     "metadata": {},
     "output_type": "display_data"
    }
   ],
   "source": [
    "V = Ev  - F * u_trial.subs(x,0)\n",
    "display(V)\n",
    "eq1 = sym.Eq(sym.diff(V,a),0)"
   ]
  },
  {
   "cell_type": "markdown",
   "id": "a072aa10",
   "metadata": {},
   "source": [
    "Solving for $a$ gives:"
   ]
  },
  {
   "cell_type": "code",
   "execution_count": 4,
   "id": "c6d991f8",
   "metadata": {
    "slideshow": {
     "slide_type": "subslide"
    }
   },
   "outputs": [
    {
     "data": {
      "text/latex": [
       "$\\displaystyle \\frac{F L \\left(1 - \\frac{x}{L}\\right)}{2 EA_{0} \\log{\\left(2 \\right)}}$"
      ],
      "text/plain": [
       "F*L*(1 - x/L)/(2*EA_0*log(2))"
      ]
     },
     "metadata": {},
     "output_type": "display_data"
    }
   ],
   "source": [
    "a_sol = sym.solve(eq1,a)[0]\n",
    "u_trial_subs = u_trial.subs(a,a_sol)\n",
    "display(u_trial_subs)"
   ]
  },
  {
   "cell_type": "markdown",
   "id": "31257952",
   "metadata": {
    "slideshow": {
     "slide_type": "slide"
    }
   },
   "source": [
    "## Solving with ODE ##"
   ]
  },
  {
   "cell_type": "code",
   "execution_count": 5,
   "id": "87faed30",
   "metadata": {
    "slideshow": {
     "slide_type": "fragment"
    }
   },
   "outputs": [],
   "source": [
    "u = sym.Function('u')\n",
    "EA = 2 * EA_0 / (2 - x / L)"
   ]
  },
  {
   "cell_type": "markdown",
   "id": "0d6ab1ac",
   "metadata": {},
   "source": [
    "The ODE is defined as:"
   ]
  },
  {
   "cell_type": "code",
   "execution_count": 6,
   "id": "7a73cf34",
   "metadata": {
    "slideshow": {
     "slide_type": "subslide"
    }
   },
   "outputs": [
    {
     "data": {
      "text/latex": [
       "$\\displaystyle \\frac{2 EA_{0} \\frac{d^{2}}{d x^{2}} u{\\left(x \\right)}}{2 - \\frac{x}{L}} + \\frac{2 EA_{0} \\frac{d}{d x} u{\\left(x \\right)}}{L \\left(2 - \\frac{x}{L}\\right)^{2}} = 0$"
      ],
      "text/plain": [
       "Eq(2*EA_0*Derivative(u(x), (x, 2))/(2 - x/L) + 2*EA_0*Derivative(u(x), x)/(L*(2 - x/L)**2), 0)"
      ]
     },
     "metadata": {},
     "output_type": "display_data"
    }
   ],
   "source": [
    "DV = sym.Eq((EA*u(x).diff(x)).diff(x),0)\n",
    "display(DV)"
   ]
  },
  {
   "cell_type": "markdown",
   "id": "53ce9c9c",
   "metadata": {},
   "source": [
    "The general solution of this ODE is:"
   ]
  },
  {
   "cell_type": "code",
   "execution_count": 7,
   "id": "19dfb826",
   "metadata": {
    "slideshow": {
     "slide_type": "subslide"
    }
   },
   "outputs": [
    {
     "data": {
      "text/latex": [
       "$\\displaystyle C_{1} + 2 C_{2} L x - \\frac{C_{2} x^{2}}{2}$"
      ],
      "text/plain": [
       "C1 + 2*C2*L*x - C2*x**2/2"
      ]
     },
     "metadata": {},
     "output_type": "display_data"
    }
   ],
   "source": [
    "C1, C2 = sym.symbols('C1, C2')\n",
    "u_sol = sym.dsolve(DV,u(x)).rhs\n",
    "display(u_sol)"
   ]
  },
  {
   "cell_type": "markdown",
   "id": "271dd67e",
   "metadata": {},
   "source": [
    "Solving for the boundary conditions gives:"
   ]
  },
  {
   "cell_type": "code",
   "execution_count": 8,
   "id": "69121b6d",
   "metadata": {
    "slideshow": {
     "slide_type": "subslide"
    }
   },
   "outputs": [
    {
     "data": {
      "text/latex": [
       "$\\displaystyle \\frac{3 F L}{4 EA_{0}} - \\frac{F x}{EA_{0}} + \\frac{F x^{2}}{4 EA_{0} L}$"
      ],
      "text/plain": [
       "3*F*L/(4*EA_0) - F*x/EA_0 + F*x**2/(4*EA_0*L)"
      ]
     },
     "metadata": {},
     "output_type": "display_data"
    }
   ],
   "source": [
    "eps = u_sol.diff(x)\n",
    "N = EA * eps\n",
    "eq1 = sym.Eq(N.subs(x,0),-F)\n",
    "eq2 = sym.Eq(u_sol.subs(x,L),0)\n",
    "sol = sym.solve((eq1,eq2),(C1,C2))\n",
    "u_subs = u_sol.subs(sol)\n",
    "display(u_subs)"
   ]
  },
  {
   "cell_type": "markdown",
   "id": "6264be82",
   "metadata": {
    "slideshow": {
     "slide_type": "slide"
    }
   },
   "source": [
    "## Comparison "
   ]
  },
  {
   "cell_type": "code",
   "execution_count": 9,
   "id": "9aeaeff5",
   "metadata": {
    "slideshow": {
     "slide_type": "subslide"
    }
   },
   "outputs": [
    {
     "data": {
      "image/png": "[encoded data removed]",
      "text/plain": [
       "<Figure size 640x480 with 1 Axes>"
      ]
     },
     "metadata": {},
     "output_type": "display_data"
    }
   ],
   "source": [
    "p0 = sym.plot(u_trial_subs.subs([(F,10),(EA_0,1000),(L,10)]), (x , 0 , 10),label='Result $u_{trial}$',legend=True,show=False)\n",
    "p1 = sym.plot(u_subs.subs([(F,10),(EA_0,1000),(L,10)]), (x , 0 , 10),label='Exact result ODE',show=False)\n",
    "p0.append(p1[0])\n",
    "p0.show()"
   ]
  }
 ],
 "metadata": {
  "celltoolbar": "Geen",
  "kernelspec": {
   "display_name": "Python 3 (ipykernel)",
   "language": "python",
   "name": "python3"
  },
  "language_info": {
   "codemirror_mode": {
    "name": "ipython",
    "version": 3
   },
   "file_extension": ".py",
   "mimetype": "text/x-python",
   "name": "python",
   "nbconvert_exporter": "python",
   "pygments_lexer": "ipython3",
   "version": "3.9.18"
  }
 },
 "nbformat": 4,
 "nbformat_minor": 5
}
