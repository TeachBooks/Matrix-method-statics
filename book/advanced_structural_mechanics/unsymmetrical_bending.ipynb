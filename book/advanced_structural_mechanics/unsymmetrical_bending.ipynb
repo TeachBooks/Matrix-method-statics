{
 "cells": [
  {
   "cell_type": "markdown",
   "metadata": {},
   "source": [
    "# Demonstration Unsymmetrical bending"
   ]
  },
  {
   "cell_type": "markdown",
   "metadata": {},
   "source": [
    "The bending behaviour of the following beam is calculated:\n",
    "![](./data_unsymmetrical_bending/Demonstration_1.png)\n",
    "\n",
    "If you download this file you can play around with the actual widget"
   ]
  },
  {
   "cell_type": "code",
   "execution_count": null,
   "metadata": {
    "tags": [
     "thebe-init"
    ]
   },
   "outputs": [],
   "source": [
    "import sympy as sym\n",
    "sym.init_printing()"
   ]
  },
  {
   "cell_type": "code",
   "execution_count": null,
   "metadata": {
    "tags": [
     "thebe-init"
    ]
   },
   "outputs": [],
   "source": [
    "x = sym.symbols('x')\n",
    "F_z, F_y = sym.symbols('F_z F_y')\n",
    "C1, C2, C3, C4, C5, C6, C7, C8 = sym.symbols('C1 C2 C3 C4 C5 C6 C7 C8')\n",
    "\n",
    "qz = sym.SingularityFunction(x,750,-1)*1000 * F_z\n",
    "qy = sym.SingularityFunction(x,750,-1)*1000 * F_y"
   ]
  },
  {
   "cell_type": "code",
   "execution_count": null,
   "metadata": {
    "tags": [
     "thebe-init"
    ]
   },
   "outputs": [],
   "source": [
    "Vz = -sym.integrate(qz,x) + C1\n",
    "Mz = sym.integrate(Vz,x) + C2\n",
    "\n",
    "Vy = -sym.integrate(qy,x) + C3\n",
    "My  =sym.integrate(Vy,x) + C4\n"
   ]
  },
  {
   "cell_type": "code",
   "execution_count": null,
   "metadata": {
    "tags": [
     "thebe-init"
    ]
   },
   "outputs": [],
   "source": [
    "eq1 = sym.Eq(Mz.subs(x,0),0)\n",
    "eq2 = sym.Eq(Mz.subs(x,1500),0)\n",
    "eq3 = sym.Eq(My.subs(x,0),0)\n",
    "eq4 = sym.Eq(My.subs(x,1500),0)\n",
    "sol = sym.solve([eq1,eq2,eq3,eq4],(C1,C2,C3,C4))\n",
    "Mz = Mz.subs(sol)\n",
    "My = My.subs(sol)"
   ]
  },
  {
   "cell_type": "code",
   "execution_count": null,
   "metadata": {
    "tags": [
     "thebe-init"
    ]
   },
   "outputs": [],
   "source": [
    "b = 75\n",
    "h = 150\n",
    "t = 10\n",
    "A = b*t+h*t - t*t\n",
    "NC_z = ( (b-t) * t * t/2 + h * t * h / 2 ) / A\n",
    "NC_y = ( (h-t)*t*t/2 + b * t * b / 2 ) / A\n",
    "Izz = (1/12 * (b-t) * t **3 + 1/12 * t * h**3 + b * t * (NC_z-t/2)**2 + h * t * (NC_z - h/2)**2)/1e4\n",
    "Iyy = (1/12 * t * b **3 + 1/12 * (h - t) * t**3 + h * t * (t/2-NC_y)**2 + b * t * (NC_y - b/2)**2)/1e4\n",
    "Iyz = (b * t * (b/2 - NC_y) * (- NC_z+t/2) + h * t * (- NC_y+t/2) * (h / 2 - NC_z) - t * t * (-NC_y + t/2) * (-NC_z + t/2))/1e4\n",
    "\n",
    "E = 210000\n",
    "kappa_y = 1e-4/E*1/(Izz*Iyy-(-Iyz)**2)*( Izz*My - Iyz*Mz)\n",
    "kappa_z = 1e-4/E*1/(Izz*Iyy-(-Iyz)**2)*( -Iyz*My + Iyy*Mz)"
   ]
  },
  {
   "cell_type": "code",
   "execution_count": null,
   "metadata": {
    "tags": [
     "thebe-init"
    ]
   },
   "outputs": [],
   "source": [
    "phi_y = sym.integrate(kappa_z,x) + C5\n",
    "phi_z = -sym.integrate(kappa_y,x) + C6\n",
    "w_y = sym.integrate(phi_z,x) + C7\n",
    "w_z = -sym.integrate(phi_y,x) + C8"
   ]
  },
  {
   "cell_type": "code",
   "execution_count": null,
   "metadata": {
    "tags": [
     "thebe-init"
    ]
   },
   "outputs": [],
   "source": [
    "eq5 = sym.Eq(w_y.subs(x,0),0)\n",
    "eq6 = sym.Eq(w_y.subs(x,1500),0)\n",
    "eq7 = sym.Eq(w_z.subs(x,0),0)\n",
    "eq8 = sym.Eq(w_z.subs(x,1500),0)\n",
    "sol = sym.solve([eq5,eq6,eq7,eq8],(C5,C6,C7,C8))\n",
    "y, z = sym.symbols('y z')"
   ]
  },
  {
   "cell_type": "code",
   "execution_count": null,
   "metadata": {
    "tags": [
     "thebe-init"
    ]
   },
   "outputs": [],
   "source": [
    "u = - y * phi_z + z * phi_y\n",
    "\n",
    "sigma = E * (kappa_y * y + kappa_z * z)\n",
    "\n",
    "sigma.subs(x,750).subs(y,75-15.83).subs(z,-51.67).subs(F_z,27).subs(F_y,9)\n",
    "neutral_axis = sym.solve(sigma,z)[0]"
   ]
  },
  {
   "cell_type": "code",
   "execution_count": null,
   "metadata": {
    "tags": [
     "thebe-remove-input-init"
    ]
   },
   "outputs": [],
   "source": [
    "w_y_num = sym.lambdify([x,F_z,F_y],w_y.subs(sol).rewrite(sym.Piecewise))\n",
    "w_z_num = sym.lambdify([x,F_z,F_y],w_z.subs(sol).rewrite(sym.Piecewise))\n",
    "u_num = sym.lambdify([x,F_z,F_y,y,z],u.subs(sol).rewrite(sym.Piecewise))\n",
    "sigma = sym.lambdify([x,F_z,F_y,y,z],sigma.subs(sol).rewrite(sym.Piecewise))\n",
    "neutral_axis = sym.lambdify([x,F_z,F_y,y],neutral_axis.subs(sol).rewrite(sym.Piecewise))"
   ]
  },
  {
   "cell_type": "code",
   "execution_count": null,
   "metadata": {
    "tags": [
     "thebe-remove-input-init"
    ]
   },
   "outputs": [],
   "source": [
    "import micropip\n",
    "await micropip.install(\"ipympl\")"
   ]
  },
  {
   "cell_type": "code",
   "execution_count": null,
   "metadata": {
    "tags": [
     "thebe-remove-input-init"
    ]
   },
   "outputs": [],
   "source": [
    "import matplotlib.pyplot as plt\n",
    "import numpy as np\n",
    "import ipywidgets as widgets\n",
    "from mpl_toolkits.mplot3d.art3d import Poly3DCollection \n",
    "%matplotlib widget"
   ]
  },
  {
   "cell_type": "code",
   "execution_count": null,
   "metadata": {
    "tags": [
     "thebe-remove-input-init"
    ]
   },
   "outputs": [],
   "source": [
    "def add_surface_between_lines(x_left, x_right, y_left, y_right, z_left, z_right, ax,color):\n",
    "    for i in range(len(x_left)-1):\n",
    "        vertices = []\n",
    "        vertices.append([x_left[i], y_left[i], z_left[i]])\n",
    "        vertices.append([x_right[i], y_right[i], z_right[i]])\n",
    "        vertices.append([x_right[i+1], y_right[i+1], z_right[i+1]])\n",
    "        surface = Poly3DCollection([vertices], alpha=0.5, facecolor=color)\n",
    "        ax.add_collection3d(surface)\n",
    "    for i in range(len(x_left)-1):\n",
    "        vertices = []\n",
    "        vertices.append([x_left[i], y_left[i], z_left[i]])\n",
    "        vertices.append([x_right[i+1], y_right[i+1], z_right[i+1]])\n",
    "        vertices.append([x_left[i+1], y_left[i+1], z_left[i+1]])\n",
    "        surface = Poly3DCollection([vertices], alpha=0.5, facecolor=color)\n",
    "        ax.add_collection3d(surface)\n"
   ]
  },
  {
   "cell_type": "code",
   "execution_count": null,
   "metadata": {
    "tags": [
     "thebe-remove-input-init"
    ]
   },
   "outputs": [],
   "source": [
    "Fz_slider = widgets.IntSlider(value=27, min=0, max=40, step=1, description='Fz:')\n",
    "Fy_slider = widgets.IntSlider(value=9, min=0, max=40, step=1, description='Fy:')\n",
    "scale_slider = widgets.IntSlider(value=71, min=1, max=100, step=10, description='Scale:')\n",
    "\n",
    "fig = plt.figure()\n",
    "ax = fig.add_subplot(111, projection='3d')\n",
    "\n",
    "# Define a function to update the plot based on the slider values\n",
    "def update_plot(Fz, Fy, scale):\n",
    "    ax.clear()  # Clear the existing plot\n",
    "    x_num = np.linspace(0, 1500, 20)\n",
    "\n",
    "    ax.set_ylim3d(-16, 100)\n",
    "    ax.set_zlim3d(-52, 100)\n",
    "    ax.set_xlim3d(0, 1500)\n",
    "    ax.invert_zaxis()\n",
    "    ax.invert_yaxis()\n",
    "    ax.set_xlabel('x')\n",
    "    ax.set_ylabel('y')\n",
    "    ax.set_zlabel('z')\n",
    "    ax.set_aspect('equal')\n",
    "    ax.set_axis_off()\n",
    "    ax.quiver(750, -15.83, -51.67, 0, 0, Fz, length=Fz/50*20, normalize=False, color='orange')\n",
    "    ax.quiver(750, -15.83, -51.67, 0, Fy, 0, length=Fy/50*20, normalize=False, color='orange')\n",
    "\n",
    "    w_y_eval = w_y_num(x_num, F_z=Fz, F_y=Fy) * scale\n",
    "    w_z_eval = w_z_num(x_num, F_z=Fz, F_y=Fy) * scale\n",
    "\n",
    "    ax.plot(x_num, w_y_eval, w_z_eval, color='orange')\n",
    "\n",
    "    y_left = np.ones_like(x_num) * (75 - 15.83)\n",
    "    y_right = np.ones_like(x_num) * (-15.83)\n",
    "    z_left = np.ones_like(x_num) * -51.67\n",
    "    z_right = np.ones_like(x_num) * -51.67\n",
    "    x_left = x_num + u_num(x_num, F_z=Fz, F_y=Fy, y=y_left, z=z_left) * scale\n",
    "    x_right = x_num + u_num(x_num, F_z=Fz, F_y=Fy, y=y_right, z=z_right) * scale\n",
    "    add_surface_between_lines(x_left, x_right, w_y_eval + y_left, w_y_eval + y_right, w_z_eval + z_left, w_z_eval + z_right, ax, color='red')\n",
    "    ax.plot(x_left, w_y_eval + y_left, w_z_eval + z_left, color='red')\n",
    "    ax.plot(x_right, w_y_eval + y_right, w_z_eval + z_right, color='red')\n",
    "\n",
    "    y_left = np.ones_like(x_num) * (-15.83)\n",
    "    z_left = np.ones_like(x_num) * (150 - 51.67)\n",
    "    x_left = x_num + u_num(x_num, F_z=Fz, F_y=Fy, y=y_left, z=z_left) * scale\n",
    "    add_surface_between_lines(x_left, x_right, w_y_eval + y_left, w_y_eval + y_right, w_z_eval + z_left, w_z_eval + z_right, ax, color='red')\n",
    "    ax.plot(x_left, w_y_eval + y_left, w_z_eval + z_left, color='red')\n",
    "\n",
    "    y_left = np.ones_like(x_num) * (75 - 15.83)\n",
    "    y_right = np.ones_like(x_num) * (-15.83)\n",
    "    z_left = np.ones_like(x_num) * -51.67\n",
    "    z_right = np.ones_like(x_num) * -51.67\n",
    "    add_surface_between_lines(x_num, x_num, y_left, y_right, z_left, z_right, ax, color='blue')\n",
    "    ax.plot(x_num, y_left, z_left, color='blue')\n",
    "    ax.plot(x_num, y_right, z_right, color='blue')\n",
    "\n",
    "    y_left = np.ones_like(x_num) * (-15.83)\n",
    "    z_left = np.ones_like(x_num) * (150 - 51.67)\n",
    "    add_surface_between_lines(x_num, x_num, y_left, y_right, z_left, z_right, ax, color='blue')\n",
    "\n",
    "    plt.draw()  # Redraw the updated plot\n",
    "\n",
    "# Display the sliders and the plot\n",
    "widgets.interact(update_plot, Fz=Fz_slider, Fy=Fy_slider, scale=scale_slider);\n"
   ]
  },
  {
   "cell_type": "code",
   "execution_count": null,
   "metadata": {
    "tags": [
     "thebe-remove-input-init"
    ]
   },
   "outputs": [],
   "source": [
    "Fz_slider = widgets.IntSlider(value=27, min=0, max=40, step=1, description='Fz:')\n",
    "Fy_slider = widgets.IntSlider(value=9, min=0, max=40, step=1, description='Fy:')\n",
    "x_slider = widgets.IntSlider(value=750, min=0, max=1500, step=50, description='x:')\n",
    "\n",
    "sigma_left = sigma(np.linspace(0,1500,100),40,40,75-15.83,-51.67)\n",
    "sigma_right = sigma(np.linspace(0,1500,100),40,40,-15.83,-51.67)\n",
    "sigma_bottom = sigma(np.linspace(0,1500,100),40,40,-15.83,150-51.67)\n",
    "sigma_max = max(max(sigma_left),max(sigma_right),max(sigma_bottom))\n",
    "\n",
    "scale = 1/sigma_max*100\n",
    "\n",
    "fig = plt.figure()\n",
    "ax = fig.add_subplot(111, projection='3d')\n",
    "\n",
    "saved_elev, saved_azim = ax.elev, ax.azim\n",
    "\n",
    "ax.set_ylim3d(-16, 100)\n",
    "ax.set_zlim3d(-52, 100)\n",
    "ax.set_xlim3d(0, 1500)\n",
    "ax.invert_zaxis()\n",
    "ax.invert_yaxis()\n",
    "\n",
    "def update_plot(Fz, Fy, x_stress):\n",
    "    xlim_saved = ax.get_xlim3d()\n",
    "    ylim_saved = ax.get_ylim3d()\n",
    "    zlim_saved = ax.get_zlim3d()\n",
    "    #elev_saved = ax.elev\n",
    "    #azim_saved = ax.azim\n",
    "\n",
    "    ax.clear()  # Clear the existing plot\n",
    "    x_num = np.linspace(0, x_stress, 2)\n",
    "\n",
    "    #ax.view_init(elev_saved, azim_saved)\n",
    "    ax.set_ylim3d(ylim_saved)\n",
    "    ax.set_zlim3d(ylim_saved)\n",
    "    ax.set_xlim3d(xlim_saved)\n",
    "        \n",
    "    ax.set_aspect('equal')\n",
    "    ax.set_axis_off() \n",
    "\n",
    "    y_left = np.ones_like(x_num) * (75 - 15.83)\n",
    "    y_right = np.ones_like(x_num) * (-15.83)\n",
    "    z_left = np.ones_like(x_num) * -51.67\n",
    "    z_right = np.ones_like(x_num) * -51.67\n",
    "    ax.plot(x_num, y_left, z_left, color='blue')\n",
    "    add_surface_between_lines(x_num, x_num, y_left, y_right, z_left, z_right, ax, color='blue')\n",
    "    ax.plot(x_num, y_left, z_left+10, color='blue')\n",
    "    add_surface_between_lines(x_num, x_num, y_left, y_left, z_left, z_left+10, ax, color='blue')\n",
    "    ax.plot(x_num, y_right, z_left, color='blue')\n",
    "    ax.plot(x_num, y_right+10, z_left+10, color='blue')\n",
    "    add_surface_between_lines(x_num, x_num, y_right+10, y_left, z_left+10, z_left+10, ax, color='blue')\n",
    "\n",
    "    y_left = np.ones_like(x_num) * (-15.83)\n",
    "    z_left = np.ones_like(x_num) * (150 - 51.67)\n",
    "    add_surface_between_lines(x_num, x_num, y_left, y_right, z_left, z_right, ax, color='blue')\n",
    "    ax.plot(x_num, y_left, z_left, color='blue')\n",
    "    add_surface_between_lines(x_num, x_num, y_left, y_left+10, z_left, z_left, ax, color='blue')\n",
    "    ax.plot(x_num, y_left+10, z_left, color='blue')\n",
    "    add_surface_between_lines(x_num, x_num, y_left+10, y_left+10, z_right+10, z_left, ax, color='blue')\n",
    "\n",
    "    y_list = [75-15.83,-15.83,-15.83,-15.83+10,-15.83+10,75-15.83,75-15.83]\n",
    "    z_list = [-51.67,-51.67,150-51.67,150-51.67,-51.67+10,-51.67+10,-51.67]\n",
    "    sigma_A = sigma(x_stress,Fz,Fy,75-15.83,-51.67)\n",
    "    sigma_B = sigma(x_stress,Fz,Fy,-15.83,-51.67)\n",
    "    sigma_C = sigma(x_stress,Fz,Fy,75-15.83,-51.67+10)\n",
    "    sigma_D = sigma(x_stress,Fz,Fy,-15.83+10,150-51.67)\n",
    "    sigma_E = sigma(x_stress,Fz,Fy,-15.83,150-51.67)\n",
    "    sigma_F = sigma(x_stress,Fz,Fy,-15.83+10,-51.67+10)\n",
    "    x_stresses = []\n",
    "    y_stresses = []\n",
    "    z_stresses = []\n",
    "    for i in range(len(y_list)):\n",
    "        x_stresses.append(x_stress + scale * sigma(x_stress,Fz,Fy,y_list[i],z_list[i]))\n",
    "        x_stresses.append(x_stress)\n",
    "        x_stresses.append(x_stress + scale * sigma(x_stress,Fz,Fy,y_list[i],z_list[i]))\n",
    "        y_stresses.append(y_list[i])\n",
    "        y_stresses.append(y_list[i])\n",
    "        y_stresses.append(y_list[i])\n",
    "        z_stresses.append(z_list[i])\n",
    "        z_stresses.append(z_list[i])\n",
    "        z_stresses.append(z_list[i])\n",
    "\n",
    "    ax.plot(x_stresses, y_stresses,z_stresses, color='red',label='Normal stresses')\n",
    "\n",
    "    ax.plot([x_stress,x_stress], [-30,70],[neutral_axis(x_stress,Fz,Fy,-30),neutral_axis(x_stress,Fz,Fy,70)], color='orange',label='Neutral axis')\n",
    "\n",
    "    ax.legend()\n",
    "    plt.draw()  # Redraw the updated plot   \n",
    "\n",
    "\n",
    "# Display the sliders and the plot\n",
    "widgets.interact(update_plot, Fz=Fz_slider, Fy=Fy_slider, x_stress = x_slider);"
   ]
  },
  {
   "cell_type": "code",
   "execution_count": null,
   "metadata": {},
   "outputs": [],
   "source": []
  }
 ],
 "metadata": {
  "kernelspec": {
   "display_name": "Python 3 (ipykernel)",
   "language": "python",
   "name": "python3"
  },
  "language_info": {
   "codemirror_mode": {
    "name": "ipython",
    "version": 3
   },
   "file_extension": ".py",
   "mimetype": "text/x-python",
   "name": "python",
   "nbconvert_exporter": "python",
   "pygments_lexer": "ipython3",
   "version": "3.9.18"
  }
 },
 "nbformat": 4,
 "nbformat_minor": 4
}
