{
 "cells": [
  {
   "cell_type": "markdown",
   "metadata": {},
   "source": [
    "# Stiffness matrix, equivalent force vector and postprocess results of Euler Bernoulli beam"
   ]
  },
  {
   "cell_type": "code",
   "execution_count": 1,
   "metadata": {},
   "outputs": [],
   "source": [
    "import sympy as sym\n",
    "sym.init_printing()"
   ]
  },
  {
   "cell_type": "code",
   "execution_count": 2,
   "metadata": {},
   "outputs": [
    {
     "data": {
      "image/png": "[encoded data removed]",
      "text/latex": [
       "$\\displaystyle EI \\frac{d^{4}}{d x^{4}} w{\\left(x \\right)} = q_{z}$"
      ],
      "text/plain": [
       "     4            \n",
       "    d             \n",
       "EI⋅───(w(x)) = q_z\n",
       "     4            \n",
       "   dx             "
      ]
     },
     "metadata": {},
     "output_type": "display_data"
    }
   ],
   "source": [
    "EI, q_z, x, L = sym.symbols('EI, q_z, x, L')\n",
    "w = sym.Function('w')\n",
    "\n",
    "ODE_bending = sym.Eq(w(x).diff(x, 4) *EI, q_z)\n",
    "display(ODE_bending)"
   ]
  },
  {
   "cell_type": "code",
   "execution_count": 3,
   "metadata": {},
   "outputs": [
    {
     "data": {
      "image/png": "[encoded data removed]",
      "text/latex": [
       "$\\displaystyle C_{1} + C_{2} x + C_{3} x^{2} + C_{4} x^{3} + \\frac{q_{z} x^{4}}{24 EI}$"
      ],
      "text/plain": [
       "                                 4\n",
       "                2       3   q_z⋅x \n",
       "C₁ + C₂⋅x + C₃⋅x  + C₄⋅x  + ──────\n",
       "                            24⋅EI "
      ]
     },
     "metadata": {},
     "output_type": "display_data"
    }
   ],
   "source": [
    "w = sym.dsolve(ODE_bending, w(x)).rhs\n",
    "display(w)"
   ]
  },
  {
   "cell_type": "code",
   "execution_count": 4,
   "metadata": {},
   "outputs": [],
   "source": [
    "phi = -w.diff(x)\n",
    "kappa = phi.diff(x)\n",
    "M = EI * kappa\n",
    "V = M.diff(x)"
   ]
  },
  {
   "cell_type": "code",
   "execution_count": 5,
   "metadata": {},
   "outputs": [
    {
     "data": {
      "image/png": "[encoded data removed]",
      "text/latex": [
       "$\\displaystyle \\left\\{ C_{1} : w_{1}, \\  C_{2} : - \\phi_{1}, \\  C_{3} : \\frac{48 EI L \\phi_{1} + 24 EI L \\phi_{2} - 72 EI w_{1} + 72 EI w_{2} + L^{4} q_{z}}{24 EI L^{2}}, \\  C_{4} : \\frac{- 12 EI L \\phi_{1} - 12 EI L \\phi_{2} + 24 EI w_{1} - 24 EI w_{2} - L^{4} q_{z}}{12 EI L^{3}}\\right\\}$"
      ],
      "text/plain": [
       "⎧                                                                      4      \n",
       "⎪                     48⋅EI⋅L⋅φ₁ + 24⋅EI⋅L⋅φ₂ - 72⋅EI⋅w₁ + 72⋅EI⋅w₂ + L ⋅q_z  \n",
       "⎨C₁: w₁, C₂: -φ₁, C₃: ──────────────────────────────────────────────────────, \n",
       "⎪                                                   2                         \n",
       "⎩                                            24⋅EI⋅L                          \n",
       "\n",
       "                                                      4    ⎫\n",
       "    -12⋅EI⋅L⋅φ₁ - 12⋅EI⋅L⋅φ₂ + 24⋅EI⋅w₁ - 24⋅EI⋅w₂ - L ⋅q_z⎪\n",
       "C₄: ───────────────────────────────────────────────────────⎬\n",
       "                                   3                       ⎪\n",
       "                            12⋅EI⋅L                        ⎭"
      ]
     },
     "metadata": {},
     "output_type": "display_data"
    }
   ],
   "source": [
    "w_1, w_2, phi_1, phi_2 = sym.symbols('w_1, w_2, phi_1, phi_2')\n",
    "\n",
    "eq1 = sym.Eq(w.subs(x,0),w_1)\n",
    "eq2 = sym.Eq(w.subs(x,L),w_2)\n",
    "eq3 = sym.Eq(phi.subs(x,0),phi_1)\n",
    "eq4 = sym.Eq(phi.subs(x,L),phi_2)\n",
    "\n",
    "sol = sym.solve([eq1, eq2, eq3, eq4 ], sym.symbols('C1, C2, C3, C4'))\n",
    "display(sol)"
   ]
  },
  {
   "cell_type": "code",
   "execution_count": 6,
   "metadata": {},
   "outputs": [],
   "source": [
    "F_1_z, F_2_z, T_1_y, T_2_y = sym.symbols('F_1_z, F_2_z, T_1_y, T_2_y')\n",
    "\n",
    "eq5 = sym.Eq(-V.subs(sol).subs(x,0), F_1_z)\n",
    "eq6 = sym.Eq(V.subs(sol).subs(x,L), F_2_z)\n",
    "eq7 = sym.Eq(-M.subs(sol).subs(x,0), T_1_y)\n",
    "eq8 = sym.Eq(M.subs(sol).subs(x,L), T_2_y)"
   ]
  },
  {
   "cell_type": "code",
   "execution_count": 7,
   "metadata": {},
   "outputs": [
    {
     "data": {
      "image/png": "[encoded data removed]",
      "text/latex": [
       "$\\displaystyle \\left[\\begin{matrix}\\frac{12 EI}{L^{3}} & - \\frac{6 EI}{L^{2}} & - \\frac{12 EI}{L^{3}} & - \\frac{6 EI}{L^{2}}\\\\- \\frac{6 EI}{L^{2}} & \\frac{4 EI}{L} & \\frac{6 EI}{L^{2}} & \\frac{2 EI}{L}\\\\- \\frac{12 EI}{L^{3}} & \\frac{6 EI}{L^{2}} & \\frac{12 EI}{L^{3}} & \\frac{6 EI}{L^{2}}\\\\- \\frac{6 EI}{L^{2}} & \\frac{2 EI}{L} & \\frac{6 EI}{L^{2}} & \\frac{4 EI}{L}\\end{matrix}\\right]$"
      ],
      "text/plain": [
       "⎡ 12⋅EI   -6⋅EI   -12⋅EI   -6⋅EI ⎤\n",
       "⎢ ─────   ──────  ───────  ──────⎥\n",
       "⎢    3       2        3       2  ⎥\n",
       "⎢   L       L        L       L   ⎥\n",
       "⎢                                ⎥\n",
       "⎢-6⋅EI     4⋅EI    6⋅EI     2⋅EI ⎥\n",
       "⎢──────    ────    ────     ──── ⎥\n",
       "⎢   2       L        2       L   ⎥\n",
       "⎢  L                L            ⎥\n",
       "⎢                                ⎥\n",
       "⎢-12⋅EI    6⋅EI    12⋅EI    6⋅EI ⎥\n",
       "⎢───────   ────    ─────    ──── ⎥\n",
       "⎢    3       2        3       2  ⎥\n",
       "⎢   L       L        L       L   ⎥\n",
       "⎢                                ⎥\n",
       "⎢-6⋅EI     2⋅EI    6⋅EI     4⋅EI ⎥\n",
       "⎢──────    ────    ────     ──── ⎥\n",
       "⎢   2       L        2       L   ⎥\n",
       "⎣  L                L            ⎦"
      ]
     },
     "metadata": {},
     "output_type": "display_data"
    },
    {
     "data": {
      "image/png": "[encoded data removed]",
      "text/latex": [
       "$\\displaystyle \\left[\\begin{matrix}F_{1 z} + \\frac{L q_{z}}{2}\\\\- \\frac{L^{2} q_{z}}{12} + T_{1 y}\\\\F_{2 z} + \\frac{L q_{z}}{2}\\\\\\frac{L^{2} q_{z}}{12} + T_{2 y}\\end{matrix}\\right]$"
      ],
      "text/plain": [
       "⎡         L⋅q_z  ⎤\n",
       "⎢ F_1_z + ─────  ⎥\n",
       "⎢           2    ⎥\n",
       "⎢                ⎥\n",
       "⎢   2            ⎥\n",
       "⎢  L ⋅q_z        ⎥\n",
       "⎢- ────── + T_1_y⎥\n",
       "⎢    12          ⎥\n",
       "⎢                ⎥\n",
       "⎢         L⋅q_z  ⎥\n",
       "⎢ F_2_z + ─────  ⎥\n",
       "⎢           2    ⎥\n",
       "⎢                ⎥\n",
       "⎢  2             ⎥\n",
       "⎢ L ⋅q_z         ⎥\n",
       "⎢ ────── + T_2_y ⎥\n",
       "⎣   12           ⎦"
      ]
     },
     "metadata": {},
     "output_type": "display_data"
    }
   ],
   "source": [
    "A, b = sym.linear_eq_to_matrix([eq5,eq7, eq6, eq8], [w_1, phi_1, w_2, phi_2])\n",
    "display(A)\n",
    "display(b)"
   ]
  },
  {
   "cell_type": "code",
   "execution_count": 8,
   "metadata": {},
   "outputs": [
    {
     "name": "stdout",
     "output_type": "stream",
     "text": [
      "Created with lambdify. Signature:\n",
      "\n",
      "func(L, EI)\n",
      "\n",
      "Expression:\n",
      "\n",
      "Matrix([[12*EI/L**3, -6*EI/L**2, -12*EI/L**3, -6*EI/L**2], [-6*EI/L**2,...\n",
      "\n",
      "Source code:\n",
      "\n",
      "def _lambdifygenerated(L, EI):\n",
      "    return array([[12*EI/L**3, -6*EI/L**2, -12*EI/L**3, -6*EI/L**2], [-6*EI/L**2, 4*EI/L, 6*EI/L**2, 2*EI/L], [-12*EI/L**3, 6*EI/L**2, 12*EI/L**3, 6*EI/L**2], [-6*EI/L**2, 2*EI/L, 6*EI/L**2, 4*EI/L]])\n",
      "\n",
      "\n",
      "Imported modules:\n",
      "\n",
      "\n",
      "Example of K with L=5 and EI=1000:\n",
      " [[  96. -240.  -96. -240.]\n",
      " [-240.  800.  240.  400.]\n",
      " [ -96.  240.   96.  240.]\n",
      " [-240.  400.  240.  800.]]\n"
     ]
    }
   ],
   "source": [
    "K = sym.lambdify((L, EI), A)\n",
    "print(K.__doc__)\n",
    "print('Example of K with L=5 and EI=1000:\\n', K(5,1000))"
   ]
  },
  {
   "cell_type": "code",
   "execution_count": 9,
   "metadata": {},
   "outputs": [
    {
     "data": {
      "image/png": "[encoded data removed]",
      "text/latex": [
       "$\\displaystyle \\phi_{1} \\left(- \\frac{4 EI}{L} + \\frac{6 EI x}{L^{2}}\\right) + \\phi_{2} \\left(- \\frac{2 EI}{L} + \\frac{6 EI x}{L^{2}}\\right) + q_{z} \\left(- \\frac{L^{2}}{12} + \\frac{L x}{2} - \\frac{x^{2}}{2}\\right) + w_{1} \\cdot \\left(\\frac{6 EI}{L^{2}} - \\frac{12 EI x}{L^{3}}\\right) + w_{2} \\left(- \\frac{6 EI}{L^{2}} + \\frac{12 EI x}{L^{3}}\\right)$"
      ],
      "text/plain": [
       "                                                  ⎛   2          2⎞           \n",
       "   ⎛  4⋅EI   6⋅EI⋅x⎞      ⎛  2⋅EI   6⋅EI⋅x⎞       ⎜  L    L⋅x   x ⎟      ⎛6⋅EI\n",
       "φ₁⋅⎜- ──── + ──────⎟ + φ₂⋅⎜- ──── + ──────⎟ + q_z⋅⎜- ── + ─── - ──⎟ + w₁⋅⎜────\n",
       "   ⎜   L        2  ⎟      ⎜   L        2  ⎟       ⎝  12    2    2 ⎠      ⎜  2 \n",
       "   ⎝           L   ⎠      ⎝           L   ⎠                              ⎝ L  \n",
       "\n",
       "                                   \n",
       "   12⋅EI⋅x⎞      ⎛  6⋅EI   12⋅EI⋅x⎞\n",
       " - ───────⎟ + w₂⋅⎜- ──── + ───────⎟\n",
       "       3  ⎟      ⎜    2        3  ⎟\n",
       "      L   ⎠      ⎝   L        L   ⎠"
      ]
     },
     "metadata": {},
     "output_type": "display_data"
    }
   ],
   "source": [
    "M_postprocess = sym.collect(M.subs(sol).expand(),[w_1,w_2,phi_1,phi_2, q_z])\n",
    "display(M_postprocess)"
   ]
  }
 ],
 "metadata": {
  "kernelspec": {
   "display_name": "base",
   "language": "python",
   "name": "python3"
  },
  "language_info": {
   "codemirror_mode": {
    "name": "ipython",
    "version": 3
   },
   "file_extension": ".py",
   "mimetype": "text/x-python",
   "name": "python",
   "nbconvert_exporter": "python",
   "pygments_lexer": "ipython3",
   "version": "3.9.18"
  }
 },
 "nbformat": 4,
 "nbformat_minor": 2
}
